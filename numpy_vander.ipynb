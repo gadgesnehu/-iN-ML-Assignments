{
 "cells": [
  {
   "cell_type": "markdown",
   "id": "6320f675",
   "metadata": {},
   "source": [
    "### Problem Statement 1: \n",
    "Write a function so that the columns of the output matrix are powers of the input vector. \n",
    "The order of the powers is determined by the increasing boolean argument. Specifically, when  increasing is False, the i-th output column is the input vector raised element-wise to the power  of N - i - 1. \n",
    "HINT: Such a matrix with a geometric progression in each row is named for Alexandre Theophile Vandermonde. \n"
   ]
  },
  {
   "cell_type": "code",
   "execution_count": 1,
   "id": "20c1a71f",
   "metadata": {},
   "outputs": [],
   "source": [
    "import numpy as np\n"
   ]
  },
  {
   "cell_type": "code",
   "execution_count": 2,
   "id": "87b37783",
   "metadata": {},
   "outputs": [],
   "source": [
    "ipvector = np.array([1, 2, 3,4])     # input array\n",
    "N=4                                  #Number of columns in the output. If N is not specified, a square array is returned (N = len(x)).where x is input array"
   ]
  },
  {
   "cell_type": "code",
   "execution_count": 3,
   "id": "cc444a73",
   "metadata": {},
   "outputs": [
    {
     "name": "stdout",
     "output_type": "stream",
     "text": [
      "[[ 1  1  1  1]\n",
      " [ 8  4  2  1]\n",
      " [27  9  3  1]\n",
      " [64 16  4  1]]\n"
     ]
    }
   ],
   "source": [
    "matrix=np.column_stack([ipvector**(N-i-1) for i in range(N)])   #column_stack() function is used to stack 1-D arrays as columns into a 2-D array\n",
    "print(matrix)\n"
   ]
  },
  {
   "cell_type": "code",
   "execution_count": 4,
   "id": "bca38a22",
   "metadata": {},
   "outputs": [],
   "source": [
    "#np.vander(ipvector, increasing=True)"
   ]
  },
  {
   "cell_type": "markdown",
   "id": "24aca226",
   "metadata": {},
   "source": [
    "#### To make Alexandre Theophile Vandermonde matrix we need three inputs in function.\n",
    "- ipvector \n",
    "- No of coulumns in output\n",
    "- Order of the powers of the columns(optional). If True, the powers increase from left to right, if False (the default) they      are reversed."
   ]
  },
  {
   "cell_type": "code",
   "execution_count": 5,
   "id": "81df5520",
   "metadata": {},
   "outputs": [],
   "source": [
    "def vander_matrix(ipvector,N,bool):\n",
    "    if bool == False:\n",
    "        matrix=np.column_stack([ipvector**(N-i-1) for i in range(N)])\n",
    "    else:\n",
    "        matrix = np.column_stack([ipvector**(i) for i in range(N)])\n",
    "\n",
    "    return matrix\n",
    "    "
   ]
  },
  {
   "cell_type": "code",
   "execution_count": 6,
   "id": "e3e466f7",
   "metadata": {},
   "outputs": [
    {
     "data": {
      "text/plain": [
       "array([[ 1,  1,  1,  1],\n",
       "       [ 8,  4,  2,  1],\n",
       "       [27,  9,  3,  1],\n",
       "       [64, 16,  4,  1]])"
      ]
     },
     "execution_count": 6,
     "metadata": {},
     "output_type": "execute_result"
    }
   ],
   "source": [
    "vander_matrix(ipvector,4, False)"
   ]
  },
  {
   "cell_type": "code",
   "execution_count": 7,
   "id": "09b80bab",
   "metadata": {},
   "outputs": [
    {
     "data": {
      "text/plain": [
       "array([[ 1,  1,  1,  1],\n",
       "       [ 1,  2,  4,  8],\n",
       "       [ 1,  3,  9, 27],\n",
       "       [ 1,  4, 16, 64]])"
      ]
     },
     "execution_count": 7,
     "metadata": {},
     "output_type": "execute_result"
    }
   ],
   "source": [
    "vander_matrix(ipvector,4, True)"
   ]
  },
  {
   "cell_type": "markdown",
   "id": "184506e5",
   "metadata": {},
   "source": [
    "### Problem Statement 2: "
   ]
  },
  {
   "cell_type": "markdown",
   "id": "a625dca2",
   "metadata": {},
   "source": [
    "Given a sequence of n values x1, x2, ..., xn and a window size k>0, the k-th moving average of  the given sequence is defined as follows: \n",
    "The moving average sequence has n-k+1 elements as shown below. \n",
    "The moving averages with k=4 of a ten-value sequence (n=10) is shown below \n",
    "i 1 2 3 4 5 6 7 8 9 10 \n",
    "===== == == == == == == == == == == \n",
    "Input 10 20 30 40 50 60 70 80 90 100  \n",
    "y1 25 = (10+20+30+40)/4 \n",
    "y2 35 = (20+30+40+50)/4 \n",
    "y3 45 = (30+40+50+60)/4 \n",
    "y4 55 = (40+50+60+70)/4 \n",
    "y5 65 = (50+60+70+80)/4 \n",
    "y6 75 = (60+70+80+90)/4 \n",
    "y7 85 = (70+80+90+100)/4 \n",
    "Thus, the moving average sequence has n-k+1=10-4+1=7 values.\n",
    "Question: Write a function to find moving average in an array over a window:  Test it over [3, 5, 7, 2, 8, 10, 11, 65, 72, 81, 99, 100, 150] and window of 3. \n"
   ]
  },
  {
   "cell_type": "markdown",
   "id": "e170736f",
   "metadata": {},
   "source": [
    "#### To Calculate Moving Averages \n",
    "* We will first calculate average of first 3 elements and that will be stored as first moving average. \n",
    "* Then window will be shifted one position to the right and again average of elements present in the window will\n",
    "  be calculated and stored in the list."
   ]
  },
  {
   "cell_type": "code",
   "execution_count": 8,
   "id": "6b45c3bd",
   "metadata": {},
   "outputs": [],
   "source": [
    "def moving_average(arr,window_size):\n",
    "    i=0\n",
    "    moving_averages = []  #created empty list \n",
    "    while i < len(arr) - window_size + 1:\n",
    "        window_average = round(np.sum(arr[i:i+window_size]) / window_size, 2) #calculating average of current window\n",
    "        moving_averages.append(window_average)\n",
    "        i += 1\n",
    "    print(moving_averages)\n",
    "\n",
    "    "
   ]
  },
  {
   "cell_type": "code",
   "execution_count": 9,
   "id": "a72871cb",
   "metadata": {},
   "outputs": [
    {
     "name": "stdout",
     "output_type": "stream",
     "text": [
      "[5.0, 4.67, 5.67, 6.67, 9.67, 28.67, 49.33, 72.67, 84.0, 93.33, 116.33]\n"
     ]
    }
   ],
   "source": [
    "moving_average([3,5,7,2,8,10,11,65,72,81,99,100,150],3)"
   ]
  },
  {
   "cell_type": "code",
   "execution_count": null,
   "id": "2c2309c2",
   "metadata": {},
   "outputs": [],
   "source": []
  }
 ],
 "metadata": {
  "kernelspec": {
   "display_name": "Python 3",
   "language": "python",
   "name": "python3"
  },
  "language_info": {
   "codemirror_mode": {
    "name": "ipython",
    "version": 3
   },
   "file_extension": ".py",
   "mimetype": "text/x-python",
   "name": "python",
   "nbconvert_exporter": "python",
   "pygments_lexer": "ipython3",
   "version": "3.9.4"
  }
 },
 "nbformat": 4,
 "nbformat_minor": 5
}
